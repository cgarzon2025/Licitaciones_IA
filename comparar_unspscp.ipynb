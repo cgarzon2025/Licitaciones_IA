{
 "cells": [
  {
   "cell_type": "code",
   "id": "initial_id",
   "metadata": {
    "collapsed": true,
    "ExecuteTime": {
     "end_time": "2025-07-17T22:01:12.414875Z",
     "start_time": "2025-07-17T22:01:11.954454Z"
    }
   },
   "source": [
    "\n",
    "from openai import OpenAI\n",
    "import mysql.connector\n",
    "from pydantic import BaseModel, Field\n",
    "import json\n",
    "\n",
    "client = OpenAI(api_key='')"
   ],
   "outputs": [],
   "execution_count": 25
  },
  {
   "metadata": {
    "ExecuteTime": {
     "end_time": "2025-07-17T16:28:27.727409Z",
     "start_time": "2025-07-17T16:28:25.452126Z"
    }
   },
   "cell_type": "code",
   "source": [
    "cod_base= client.files.create(\n",
    "    file= open('codigos_unspsc.pdf', 'rb'),\n",
    "    purpose= 'user_data'\n",
    ")\n",
    "cod_lic1= client.files.create(\n",
    "    file= open('cod_lic1.pdf', 'rb'),\n",
    "    purpose= 'user_data'\n",
    ")\n",
    "cod_lic2= client.files.create(\n",
    "    file= open('cod_lic2.pdf', 'rb'),\n",
    "    purpose= 'user_data'\n",
    ")\n",
    "cod_lic3= client.files.create(\n",
    "    file= open('cod_lic3.pdf', 'rb'),\n",
    "    purpose= 'user_data'\n",
    ")"
   ],
   "id": "eb5b6238238cd834",
   "outputs": [],
   "execution_count": 23
  },
  {
   "metadata": {
    "ExecuteTime": {
     "end_time": "2025-07-14T02:18:09.954483Z",
     "start_time": "2025-07-14T02:18:09.946474Z"
    }
   },
   "cell_type": "code",
   "source": [
    "# Conexión a la base de datos:\n",
    "class ConexionMySQL:\n",
    "    def __init__(self, host, port, user, password, database):\n",
    "        self.host = host\n",
    "        self.port = port\n",
    "        self.user = user\n",
    "        self.password = password\n",
    "        self.database = database\n",
    "\n",
    "        # Aquí iría la lógica para conectarse a MySQL\n",
    "        self.conexion = mysql.connector.connect(\n",
    "            host=self.host,\n",
    "            port=self.port,\n",
    "            user=self.user,\n",
    "            password=self.password,\n",
    "            database=self.database\n",
    "        )\n",
    "        self.cursor = self.conexion.cursor()\n",
    "        if self.conexion.is_connected():\n",
    "            # Verificar la conexión\n",
    "            print(\"Conexión exitosa a la base de datos MySQL\")\n",
    "        else:\n",
    "            print(\"Error al conectar a la base de datos MySQL\")"
   ],
   "id": "15dc0d268422f067",
   "outputs": [],
   "execution_count": 41
  },
  {
   "metadata": {},
   "cell_type": "code",
   "source": [
    "# Pruebas con DB:\n",
    "def main_mysql():\n",
    "    # Crear una instancia de la clase ConexionMySQL\n",
    "    db_mysql = ConexionMySQL(\n",
    "        host=\"localhost\",\n",
    "        port=3306,\n",
    "        user = \"root\",\n",
    "        password = \"admin\",\n",
    "        database = \"db_insitel\"\n",
    "    )\n",
    "\n",
    "    # Ejecutar una consulta a la base de datos\n",
    "    db_mysql.cursor.execute(\"SELECT codigo_unspsc, descripcion FROM codigos_unspsc;\")\n",
    "\n",
    "    # Obtener los resultados\n",
    "    resultados = db_mysql.cursor.fetchall()\n",
    "    # Imprimir los resultados\n",
    "    for fila in resultados:\n",
    "        print(fila)\n",
    "\n",
    "    # Cerrar la conexión\n",
    "    db_mysql.cursor.close()\n",
    "    db_mysql.conexion.close()\n",
    "    print(\"Conexión cerrada\")\n",
    "\n",
    "main_mysql()"
   ],
   "id": "fc78743256f79c78",
   "outputs": [],
   "execution_count": null
  },
  {
   "metadata": {
    "ExecuteTime": {
     "end_time": "2025-07-17T16:28:32.672691Z",
     "start_time": "2025-07-17T16:28:32.581372Z"
    }
   },
   "cell_type": "code",
   "source": [
    "# Modelo de salida:\n",
    "class CodigoComparado(BaseModel):\n",
    "    cod_pedido: int = Field(description=\"Código UNSPSC solicitado en archivo de licitacion\")\n",
    "    cod_en_db: int = Field(description=\"Código UNSPSC en la base de datos (0 si no hay coincidencia)\")\n",
    "    cumple: bool = Field(description=\"True si el código está en la base de datos; False en caso contrario\")"
   ],
   "id": "897809171fc0db36",
   "outputs": [],
   "execution_count": 24
  },
  {
   "metadata": {
    "ExecuteTime": {
     "end_time": "2025-07-17T16:25:58.760564Z",
     "start_time": "2025-07-17T16:25:43.531678Z"
    }
   },
   "cell_type": "code",
   "source": [
    "# Prompt propuesto\n",
    "response = client.responses.create(\n",
    "    model='gpt-4o-mini',\n",
    "    input=[\n",
    "        {\n",
    "            #'role': 'system',\n",
    "            #'content': [\n",
    "            #    {'type': 'input_file', 'file_id': cod_base.id},\n",
    "            #    {'type': 'input_text', 'text': (\n",
    "            #        'Eres la empresa INSITEL S.A. y estos son los indicadores UNSPSC que manejamos actualmente, estos codigos son de 8 cifras, y se dividen cada dos digitos en segmento, familia, clase y producto, siempre interesa los 6 primeros digitos en conjunto para realizar comparaciones.'\n",
    "            #   )}],\n",
    "            'role': 'user',\n",
    "            'content': [\n",
    "                {'type': 'input_file', 'file_id': cod_base.id},\n",
    "                {'type': 'input_file', 'file_id': cod_lic1.id},\n",
    "                {'type': 'input_text', 'text': (\n",
    "                    'Busca los códigos UNSPSC solicitados en el archivo de licitación dentro del archivo de datos de códigos UNSPSC registrados de INSITEL.'\n",
    "                    'Para cada código solicitado, verifica si existe una coincidencia exacta en el archivo de datos de INSITEL de lo contrario devuelve 0.'\n",
    "                    'Devuélveme el resultado como una lista JSON con el siguiente formato:\\n\\n'\n",
    "                    '[\\n'\n",
    "                    '  {\\n'\n",
    "                    '    \"cod_pedido\": cod_unspsc_solicitado,\\n'\n",
    "                    '    \"cod_en_db\": cod_unspsc_db_insitel,\\n'\n",
    "                    '    \"cumple\": true\\n'\n",
    "                    '  },\\n'\n",
    "                    '  {\\n'\n",
    "                    '    \"cod_pedido\": cod_unspsc_solicitado,\\n'\n",
    "                    '    \"cod_en_db\": 0,\\n'\n",
    "                    '    \"cumple\": false\\n'\n",
    "                    '  }\\n'\n",
    "                    ']\\n\\n'\n",
    "                    \"No des ninguna explicación adicional, solo el arreglo JSON.\"\n",
    "                )}\n",
    "            ]\n",
    "        }\n",
    "    ]\n",
    ")"
   ],
   "id": "e4f32f27de190ce4",
   "outputs": [],
   "execution_count": 21
  },
  {
   "metadata": {
    "ExecuteTime": {
     "end_time": "2025-07-17T16:26:00.895047Z",
     "start_time": "2025-07-17T16:26:00.878097Z"
    }
   },
   "cell_type": "code",
   "source": [
    "salida = response.output_text.strip()\n",
    "\n",
    "try:\n",
    "    lista_dicts = json.loads(salida)\n",
    "    codigos = [CodigoComparado(**item) for item in lista_dicts]\n",
    "    for cod in codigos:\n",
    "        print(cod)\n",
    "except Exception as e:\n",
    "    print(\"Error al convertir la salida en objetos CodigoComparado:\", e)\n",
    "    print(\"Respuesta del modelo:\\n\", salida)\n"
   ],
   "id": "74dacf45b961b8f9",
   "outputs": [
    {
     "name": "stdout",
     "output_type": "stream",
     "text": [
      "Error al convertir la salida en objetos CodigoComparado: Expecting value: line 1 column 1 (char 0)\n",
      "Respuesta del modelo:\n",
      " ```json\n",
      "[\n",
      "  {\n",
      "    \"cod_pedido\": \"41000000\",\n",
      "    \"cod_en_db\": \"41000000\",\n",
      "    \"cumple\": true\n",
      "  },\n",
      "  {\n",
      "    \"cod_pedido\": \"41100000\",\n",
      "    \"cod_en_db\": \"41100000\",\n",
      "    \"cumple\": true\n",
      "  },\n",
      "  {\n",
      "    \"cod_pedido\": \"41102600\",\n",
      "    \"cod_en_db\": \"41102600\",\n",
      "    \"cumple\": true\n",
      "  },\n",
      "  {\n",
      "    \"cod_pedido\": \"43000000\",\n",
      "    \"cod_en_db\": \"43000000\",\n",
      "    \"cumple\": true\n",
      "  },\n",
      "  {\n",
      "    \"cod_pedido\": \"43210000\",\n",
      "    \"cod_en_db\": \"43210000\",\n",
      "    \"cumple\": true\n",
      "  },\n",
      "  {\n",
      "    \"cod_pedido\": \"43211700\",\n",
      "    \"cod_en_db\": \"43211700\",\n",
      "    \"cumple\": true\n",
      "  },\n",
      "  {\n",
      "    \"cod_pedido\": \"46000000\",\n",
      "    \"cod_en_db\": \"46000000\",\n",
      "    \"cumple\": true\n",
      "  },\n",
      "  {\n",
      "    \"cod_pedido\": \"46170000\",\n",
      "    \"cod_en_db\": \"46170000\",\n",
      "    \"cumple\": true\n",
      "  },\n",
      "  {\n",
      "    \"cod_pedido\": \"46171600\",\n",
      "    \"cod_en_db\": \"46171600\",\n",
      "    \"cumple\": true\n",
      "  },\n",
      "  {\n",
      "    \"cod_pedido\": \"32000000\",\n",
      "    \"cod_en_db\": \"32000000\",\n",
      "    \"cumple\": true\n",
      "  },\n",
      "  {\n",
      "    \"cod_pedido\": \"32100000\",\n",
      "    \"cod_en_db\": \"32100000\",\n",
      "    \"cumple\": true\n",
      "  },\n",
      "  {\n",
      "    \"cod_pedido\": \"32101500\",\n",
      "    \"cod_en_db\": \"32101500\",\n",
      "    \"cumple\": true\n",
      "  }\n",
      "]\n",
      "```\n"
     ]
    }
   ],
   "execution_count": 22
  },
  {
   "metadata": {},
   "cell_type": "code",
   "outputs": [],
   "execution_count": null,
   "source": "",
   "id": "d1945d1c1ae25b49"
  }
 ],
 "metadata": {
  "kernelspec": {
   "display_name": "Python 3",
   "language": "python",
   "name": "python3"
  },
  "language_info": {
   "codemirror_mode": {
    "name": "ipython",
    "version": 2
   },
   "file_extension": ".py",
   "mimetype": "text/x-python",
   "name": "python",
   "nbconvert_exporter": "python",
   "pygments_lexer": "ipython2",
   "version": "2.7.6"
  }
 },
 "nbformat": 4,
 "nbformat_minor": 5
}
