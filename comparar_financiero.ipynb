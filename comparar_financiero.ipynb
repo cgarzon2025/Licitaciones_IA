{
 "cells": [
  {
   "cell_type": "code",
   "id": "initial_id",
   "metadata": {
    "collapsed": true,
    "ExecuteTime": {
     "end_time": "2025-07-14T03:37:30.752747Z",
     "start_time": "2025-07-14T03:37:30.080819Z"
    }
   },
   "source": [
    "\n",
    "from openai import OpenAI\n",
    "import mysql.connector\n",
    "from pydantic import BaseModel, Field\n",
    "import json\n",
    "\n",
    "client = OpenAI(api_key='')"
   ],
   "outputs": [],
   "execution_count": 22
  },
  {
   "metadata": {
    "ExecuteTime": {
     "end_time": "2025-07-14T01:44:48.647011Z",
     "start_time": "2025-07-14T01:44:46.591062Z"
    }
   },
   "cell_type": "code",
   "source": [
    "indic_base= client.files.create(\n",
    "    file= open('indic_base.pdf', 'rb'),\n",
    "    purpose= 'user_data'\n",
    ")\n",
    "indic_lic1= client.files.create(\n",
    "    file= open('indic2.pdf', 'rb'),\n",
    "    purpose= 'user_data'\n",
    ")"
   ],
   "id": "eb5b6238238cd834",
   "outputs": [],
   "execution_count": 9
  },
  {
   "metadata": {
    "ExecuteTime": {
     "end_time": "2025-07-14T02:12:28.947033Z",
     "start_time": "2025-07-14T02:12:28.938042Z"
    }
   },
   "cell_type": "code",
   "source": [
    "# Conexión a la base de datos:\n",
    "class ConexionMySQL:\n",
    "    def __init__(self, host, port, user, password, database):\n",
    "        self.host = host\n",
    "        self.port = port\n",
    "        self.user = user\n",
    "        self.password = password\n",
    "        self.database = database\n",
    "\n",
    "        # Aquí iría la lógica para conectarse a MySQL\n",
    "        self.conexion = mysql.connector.connect(\n",
    "            host=self.host,\n",
    "            port=self.port,\n",
    "            user=self.user,\n",
    "            password=self.password,\n",
    "            database=self.database\n",
    "        )\n",
    "        self.cursor = self.conexion.cursor()\n",
    "        if self.conexion.is_connected():\n",
    "            # Verificar la conexión\n",
    "            print(\"Conexión exitosa a la base de datos MySQL\")\n",
    "        else:\n",
    "            print(\"Error al conectar a la base de datos MySQL\")"
   ],
   "id": "4461fc2e150e59b0",
   "outputs": [],
   "execution_count": 12
  },
  {
   "metadata": {},
   "cell_type": "code",
   "source": [
    "def main_mysql():\n",
    "    # Crear una instancia de la clase ConexionMySQL\n",
    "    db_mysql = ConexionMySQL(\n",
    "        host=\"localhost\",\n",
    "        port=3306,\n",
    "        user = \"root\",\n",
    "        password = \"admin\",\n",
    "        database = \"db_insitel\"\n",
    "    )\n",
    "\n",
    "    # Ejecutar una consulta a la base de datos\n",
    "    db_mysql.cursor.execute(\"SELECT * FROM indicadores_financieros;\")\n",
    "\n",
    "    # Obtener los resultados\n",
    "    resultados = db_mysql.cursor.fetchall()\n",
    "    # Imprimir los resultados\n",
    "    for fila in resultados:\n",
    "        print(fila)\n",
    "\n",
    "    # Cerrar la conexión\n",
    "    db_mysql.cursor.close()\n",
    "    db_mysql.conexion.close()\n",
    "    print(\"Conexión cerrada\")\n",
    "main_mysql()"
   ],
   "id": "a5438f53e474eef0",
   "outputs": [],
   "execution_count": null
  },
  {
   "metadata": {
    "ExecuteTime": {
     "end_time": "2025-07-14T02:46:02.582328Z",
     "start_time": "2025-07-14T02:46:02.458063Z"
    }
   },
   "cell_type": "code",
   "source": [
    "# Modelo:\n",
    "class Indicadores(BaseModel):\n",
    "    descrip: str = Field(description='Indice Solicitado:')\n",
    "    valor: float = Field(description='Valor:')\n",
    "    cumple: bool = Field(description='Cumple / No Cumple:')"
   ],
   "id": "2ac971f7b8733b9e",
   "outputs": [],
   "execution_count": 15
  },
  {
   "metadata": {
    "ExecuteTime": {
     "end_time": "2025-07-14T02:55:37.978856Z",
     "start_time": "2025-07-14T02:55:30.967312Z"
    }
   },
   "cell_type": "code",
   "source": [
    "# Prompt propuesto:\n",
    "response = client.responses.create(\n",
    "    model='gpt-4o-mini',\n",
    "    input=[\n",
    "        {\n",
    "            'role': 'user',\n",
    "            'content': [\n",
    "                {'type': 'input_file', 'file_id': indic_base.id},\n",
    "                {'type': 'input_file', 'file_id': indic_lic1.id},\n",
    "                {'type': 'input_text', 'text': (\n",
    "                    'Analiza los indicadores financieros solicitados en el archivo de licitación'\n",
    "                    'y compáralos con los indicadores entregados en el archivo base.'\n",
    "                    'Para cada indicador, responde solo en formato JSON (sin texto adicional), con esta estructura exacta:\\n\\n'\n",
    "                    '[\\n'\n",
    "                    '  {\\n'\n",
    "                    '    \"descrip\": \"Nombre del indicador solicitado\",\\n'\n",
    "                    '    \"valor\": valor_obtenido,\\n'\n",
    "                    '    \"cumple\": true/false\\n'\n",
    "                    '  },\\n'\n",
    "                    '  ...\\n'\n",
    "                    ']\\n\\n'\n",
    "                    \"No incluyas explicaciones ni texto adicional. Solo el arreglo JSON con los indicadores.\"\n",
    "                )}\n",
    "            ]\n",
    "        }\n",
    "    ]\n",
    ")"
   ],
   "id": "8cbbdeca11714d79",
   "outputs": [],
   "execution_count": 18
  },
  {
   "metadata": {
    "ExecuteTime": {
     "end_time": "2025-07-14T03:28:40.961569Z",
     "start_time": "2025-07-14T03:28:40.883055Z"
    }
   },
   "cell_type": "code",
   "source": [
    "# Se extrae y parsea la respuesta\n",
    "salida = response.output_text.strip()\n",
    "\n",
    "# Se valida que sea un JSON válido antes de parsear\n",
    "try:\n",
    "    lista_dicts = json.loads(salida)\n",
    "    indicadores = [Indicadores(**item) for item in lista_dicts]\n",
    "    for ind in indicadores:\n",
    "        print(ind)\n",
    "except Exception as e:\n",
    "    print(\"Error al convertir la salida en objetos Indicadores:\", e)\n",
    "    print(\"Respuesta del modelo:\\n\", salida)\n"
   ],
   "id": "e50343b2c4e0a876",
   "outputs": [
    {
     "name": "stdout",
     "output_type": "stream",
     "text": [
      "Error al convertir la salida en objetos Indicadores: Expecting value: line 1 column 1 (char 0)\n",
      "Respuesta del modelo:\n",
      " ```json\n",
      "[\n",
      "  {\n",
      "    \"descrip\": \"Índice de Liquidez\",\n",
      "    \"valor\": 2.16,\n",
      "    \"cumple\": true\n",
      "  },\n",
      "  {\n",
      "    \"descrip\": \"Índice de Endeudamiento\",\n",
      "    \"valor\": 0.47,\n",
      "    \"cumple\": true\n",
      "  },\n",
      "  {\n",
      "    \"descrip\": \"Razón de Cobertura de Intereses\",\n",
      "    \"valor\": 19.83,\n",
      "    \"cumple\": true\n",
      "  },\n",
      "  {\n",
      "    \"descrip\": \"Rentabilidad del Patrimonio\",\n",
      "    \"valor\": 0.26,\n",
      "    \"cumple\": false\n",
      "  },\n",
      "  {\n",
      "    \"descrip\": \"Rentabilidad del Activo\",\n",
      "    \"valor\": 0.14,\n",
      "    \"cumple\": false\n",
      "  }\n",
      "]\n",
      "```\n"
     ]
    }
   ],
   "execution_count": 21
  },
  {
   "metadata": {},
   "cell_type": "code",
   "outputs": [],
   "execution_count": null,
   "source": "",
   "id": "9a75f3d3ae1756b6"
  }
 ],
 "metadata": {
  "kernelspec": {
   "display_name": "Python 3",
   "language": "python",
   "name": "python3"
  },
  "language_info": {
   "codemirror_mode": {
    "name": "ipython",
    "version": 2
   },
   "file_extension": ".py",
   "mimetype": "text/x-python",
   "name": "python",
   "nbconvert_exporter": "python",
   "pygments_lexer": "ipython2",
   "version": "2.7.6"
  }
 },
 "nbformat": 4,
 "nbformat_minor": 5
}
