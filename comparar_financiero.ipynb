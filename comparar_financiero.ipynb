{
 "cells": [
  {
   "cell_type": "code",
   "id": "initial_id",
   "metadata": {
    "collapsed": true,
    "ExecuteTime": {
     "end_time": "2025-07-16T20:27:59.642272Z",
     "start_time": "2025-07-16T20:27:56.113393Z"
    }
   },
   "source": [
    "\n",
    "from openai import OpenAI\n",
    "import mysql.connector\n",
    "from pydantic import BaseModel, Field\n",
    "import json\n",
    "\n",
    "client = OpenAI(api_key='')"
   ],
   "outputs": [],
   "execution_count": 1
  },
  {
   "metadata": {
    "ExecuteTime": {
     "end_time": "2025-07-16T20:34:10.977659Z",
     "start_time": "2025-07-16T20:34:05.229305Z"
    }
   },
   "cell_type": "code",
   "source": [
    "indic_base= client.files.create(\n",
    "    file= open('indic_insitel.pdf', 'rb'),\n",
    "    purpose= 'user_data'\n",
    ")\n",
    "indic_lic1= client.files.create(\n",
    "    file= open('indic1.pdf', 'rb'),\n",
    "    purpose= 'user_data'\n",
    ")\n",
    "indic_lic2= client.files.create(\n",
    "    file= open('indic2.pdf', 'rb'),\n",
    "    purpose= 'user_data'\n",
    ")\n",
    "indic_lic3= client.files.create(\n",
    "    file= open('indic3.pdf', 'rb'),\n",
    "    purpose= 'user_data'\n",
    ")"
   ],
   "id": "eb5b6238238cd834",
   "outputs": [],
   "execution_count": 2
  },
  {
   "metadata": {
    "ExecuteTime": {
     "end_time": "2025-07-14T15:09:12.699167Z",
     "start_time": "2025-07-14T15:09:12.690021Z"
    }
   },
   "cell_type": "code",
   "source": [
    "# Conexión a la base de datos:\n",
    "class ConexionMySQL:\n",
    "    def __init__(self, host, port, user, password, database):\n",
    "        self.host = host\n",
    "        self.port = port\n",
    "        self.user = user\n",
    "        self.password = password\n",
    "        self.database = database\n",
    "\n",
    "        # Aquí iría la lógica para conectarse a MySQL\n",
    "        self.conexion = mysql.connector.connect(\n",
    "            host=self.host,\n",
    "            port=self.port,\n",
    "            user=self.user,\n",
    "            password=self.password,\n",
    "            database=self.database\n",
    "        )\n",
    "        self.cursor = self.conexion.cursor()\n",
    "        if self.conexion.is_connected():\n",
    "            # Verificar la conexión\n",
    "            print(\"Conexión exitosa a la base de datos MySQL\")\n",
    "        else:\n",
    "            print(\"Error al conectar a la base de datos MySQL\")"
   ],
   "id": "4461fc2e150e59b0",
   "outputs": [],
   "execution_count": 1
  },
  {
   "metadata": {},
   "cell_type": "code",
   "source": [
    "def main_mysql():\n",
    "    # Crear una instancia de la clase ConexionMySQL\n",
    "    db_mysql = ConexionMySQL(\n",
    "        host=\"localhost\",\n",
    "        port=3306,\n",
    "        user = \"root\",\n",
    "        password = \"admin\",\n",
    "        database = \"db_insitel\"\n",
    "    )\n",
    "\n",
    "    # Ejecutar una consulta a la base de datos\n",
    "    db_mysql.cursor.execute(\"SELECT * FROM indicadores_financieros;\")\n",
    "\n",
    "    # Obtener los resultados\n",
    "    resultados = db_mysql.cursor.fetchall()\n",
    "    # Imprimir los resultados\n",
    "    for fila in resultados:\n",
    "        print(fila)\n",
    "\n",
    "    # Cerrar la conexión\n",
    "    db_mysql.cursor.close()\n",
    "    db_mysql.conexion.close()\n",
    "    print(\"Conexión cerrada\")\n",
    "main_mysql()"
   ],
   "id": "a5438f53e474eef0",
   "outputs": [],
   "execution_count": null
  },
  {
   "metadata": {
    "ExecuteTime": {
     "end_time": "2025-07-16T20:34:16.003042Z",
     "start_time": "2025-07-16T20:34:15.937671Z"
    }
   },
   "cell_type": "code",
   "source": [
    "# Modelo:\n",
    "class Indicadores(BaseModel):\n",
    "    descrip: str = Field(description='Nombre del Indicador Solicitado:')\n",
    "    indice_insitel: float = Field(description='Valor Indice en Base de Datos INSITEL:')\n",
    "    indice_solicitado: float = Field(description='Valor Indice Solicitado en Licitacion:')\n",
    "    cumple: bool = Field(description='Cumple / No Cumple:')\n",
    "    valor3: float = Field(description='Si no cumplimos entonces sacar resta de valor indice solicitado menos valor indice en base de datos:')\n"
   ],
   "id": "2ac971f7b8733b9e",
   "outputs": [],
   "execution_count": 3
  },
  {
   "metadata": {
    "ExecuteTime": {
     "end_time": "2025-07-16T20:34:50.027013Z",
     "start_time": "2025-07-16T20:34:35.808819Z"
    }
   },
   "cell_type": "code",
   "source": [
    "# Prompt propuesto:\n",
    "response = client.responses.create(\n",
    "    model='gpt-4o-mini',\n",
    "    input=[\n",
    "        {\n",
    "            'role': 'user',\n",
    "            'content': [\n",
    "                {'type': 'input_file', 'file_id': indic_base.id},\n",
    "                {'type': 'input_file', 'file_id': indic_lic3.id},\n",
    "                {'type': 'input_text', 'text': (\n",
    "                    'Analiza los indicadores financieros entregados en el archivo base insitel.'\n",
    "                    'y compáralos con los indicadores solicitados en el archivo de licitación, tener en cuenta la conversión de porcentaje a decimal.'\n",
    "                    'Para cada indicador, responde solo en formato JSON (sin texto adicional), con esta estructura exacta:\\n\\n'\n",
    "                    '[\\n'\n",
    "                    '  {\\n'\n",
    "                    '    \"Indicador\": \"Nombre del indicador solicitado\",\\n'\n",
    "                    '    \"Valor Indicador Base INSITEL\": indice_insitel,\\n'\n",
    "                    '    \"Valor Indicador Solicitado\": indice_solicitado,\\n'\n",
    "                    '    \"Cumplimos\": true/false\\n'\n",
    "                    '    \"Valor Faltante\": Si Cumplimos==false => valor_obtenido-valor_db,\\n'\n",
    "                    '  },\\n'\n",
    "                    '  ...\\n'\n",
    "                    ']\\n\\n'\n",
    "                    \"No incluyas explicaciones ni texto adicional. Solo el arreglo JSON con los indicadores.\"\n",
    "                )}\n",
    "            ]\n",
    "        }\n",
    "    ]\n",
    ")"
   ],
   "id": "8cbbdeca11714d79",
   "outputs": [],
   "execution_count": 4
  },
  {
   "metadata": {
    "ExecuteTime": {
     "end_time": "2025-07-16T20:36:46.176312Z",
     "start_time": "2025-07-16T20:36:46.063851Z"
    }
   },
   "cell_type": "code",
   "source": [
    "# Se extrae y parsea la respuesta\n",
    "salida = response.output_text.strip()\n",
    "\n",
    "# Se valida que sea un JSON válido antes de parsear\n",
    "try:\n",
    "    lista_dicts = json.loads(salida)\n",
    "    indicadores = [Indicadores(**item) for item in lista_dicts]\n",
    "    for ind in indicadores:\n",
    "        print(ind)\n",
    "except Exception as e:\n",
    "    print(\"Error al convertir la salida en objetos Indicadores:\", e)\n",
    "    print(\"Respuesta del modelo:\\n\", salida)\n"
   ],
   "id": "e50343b2c4e0a876",
   "outputs": [
    {
     "name": "stdout",
     "output_type": "stream",
     "text": [
      "Error al convertir la salida en objetos Indicadores: Expecting value: line 1 column 1 (char 0)\n",
      "Respuesta del modelo:\n",
      " ```json\n",
      "[\n",
      "  {\n",
      "    \"Indicador\": \"Índice de liquidez\",\n",
      "    \"Valor Indicador Base INSITEL\": 2.16,\n",
      "    \"Valor Indicador Solicitado\": 6.60,\n",
      "    \"Cumplimos\": false,\n",
      "    \"Valor Faltante\": -4.44\n",
      "  },\n",
      "  {\n",
      "    \"Indicador\": \"Índice de endeudamiento\",\n",
      "    \"Valor Indicador Base INSITEL\": 0.47,\n",
      "    \"Valor Indicador Solicitado\": 0.60,\n",
      "    \"Cumplimos\": true\n",
      "  },\n",
      "  {\n",
      "    \"Indicador\": \"Razón de cobertura de intereses\",\n",
      "    \"Valor Indicador Base INSITEL\": 19.83,\n",
      "    \"Valor Indicador Solicitado\": 1.70,\n",
      "    \"Cumplimos\": true\n",
      "  },\n",
      "  {\n",
      "    \"Indicador\": \"Patrimonio\",\n",
      "    \"Valor Indicador Base INSITEL\": null,\n",
      "    \"Valor Indicador Solicitado\": 1,\n",
      "    \"Cumplimos\": false,\n",
      "    \"Valor Faltante\": null\n",
      "  },\n",
      "  {\n",
      "    \"Indicador\": \"Capital de Trabajo\",\n",
      "    \"Valor Indicador Base INSITEL\": null,\n",
      "    \"Valor Indicador Solicitado\": 1,\n",
      "    \"Cumplimos\": false,\n",
      "    \"Valor Faltante\": null\n",
      "  },\n",
      "  {\n",
      "    \"Indicador\": \"Rentabilidad del patrimonio\",\n",
      "    \"Valor Indicador Base INSITEL\": 0.26,\n",
      "    \"Valor Indicador Solicitado\": 0.16,\n",
      "    \"Cumplimos\": true\n",
      "  },\n",
      "  {\n",
      "    \"Indicador\": \"Rentabilidad del activo\",\n",
      "    \"Valor Indicador Base INSITEL\": 0.14,\n",
      "    \"Valor Indicador Solicitado\": 0.71,\n",
      "    \"Cumplimos\": false,\n",
      "    \"Valor Faltante\": -0.57\n",
      "  }\n",
      "]\n",
      "```\n"
     ]
    }
   ],
   "execution_count": 5
  },
  {
   "metadata": {},
   "cell_type": "code",
   "outputs": [],
   "execution_count": null,
   "source": "",
   "id": "aafbaeafa8583b3d"
  }
 ],
 "metadata": {
  "kernelspec": {
   "display_name": "Python 3",
   "language": "python",
   "name": "python3"
  },
  "language_info": {
   "codemirror_mode": {
    "name": "ipython",
    "version": 2
   },
   "file_extension": ".py",
   "mimetype": "text/x-python",
   "name": "python",
   "nbconvert_exporter": "python",
   "pygments_lexer": "ipython2",
   "version": "2.7.6"
  }
 },
 "nbformat": 4,
 "nbformat_minor": 5
}
