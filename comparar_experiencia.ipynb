{
 "cells": [
  {
   "cell_type": "code",
   "id": "initial_id",
   "metadata": {
    "collapsed": true,
    "ExecuteTime": {
     "end_time": "2025-07-14T17:28:04.213897Z",
     "start_time": "2025-07-14T17:28:01.345198Z"
    }
   },
   "source": [
    "\n",
    "from openai import OpenAI\n",
    "import mysql.connector\n",
    "from pydantic import BaseModel, Field\n",
    "from typing import List\n",
    "import json\n",
    "\n",
    "client = OpenAI(api_key='')"
   ],
   "outputs": [],
   "execution_count": 1
  },
  {
   "metadata": {
    "ExecuteTime": {
     "end_time": "2025-07-14T20:26:21.323278Z",
     "start_time": "2025-07-14T20:26:16.970614Z"
    }
   },
   "cell_type": "code",
   "source": [
    "exp_base= client.files.create(\n",
    "    file= open('experiencia.pdf', 'rb'),\n",
    "    purpose= 'user_data'\n",
    ")\n",
    "exp_lic1= client.files.create(\n",
    "    file= open('exp1.pdf', 'rb'),\n",
    "    purpose= 'user_data'\n",
    ")\n",
    "exp_lic2= client.files.create(\n",
    "    file= open('exp2.pdf', 'rb'),\n",
    "    purpose= 'user_data'\n",
    ")\n",
    "exp_lic3= client.files.create(\n",
    "    file= open('exp3.pdf', 'rb'),\n",
    "    purpose= 'user_data'\n",
    ")"
   ],
   "id": "eb5b6238238cd834",
   "outputs": [],
   "execution_count": 6
  },
  {
   "metadata": {
    "ExecuteTime": {
     "end_time": "2025-07-14T02:12:06.248419Z",
     "start_time": "2025-07-14T02:12:06.236165Z"
    }
   },
   "cell_type": "code",
   "source": [
    "# Conexión a la base de datos:\n",
    "class ConexionMySQL:\n",
    "    def __init__(self, host, port, user, password, database):\n",
    "        self.host = host\n",
    "        self.port = port\n",
    "        self.user = user\n",
    "        self.password = password\n",
    "        self.database = database\n",
    "\n",
    "        # Aquí iría la lógica para conectarse a MySQL\n",
    "        self.conexion = mysql.connector.connect(\n",
    "            host=self.host,\n",
    "            port=self.port,\n",
    "            user=self.user,\n",
    "            password=self.password,\n",
    "            database=self.database\n",
    "        )\n",
    "        self.cursor = self.conexion.cursor()\n",
    "        if self.conexion.is_connected():\n",
    "            # Verificar la conexión\n",
    "            print(\"Conexión exitosa a la base de datos MySQL\")\n",
    "        else:\n",
    "            print(\"Error al conectar a la base de datos MySQL\")"
   ],
   "id": "ea0a84c8a7f106ea",
   "outputs": [],
   "execution_count": 7
  },
  {
   "metadata": {},
   "cell_type": "code",
   "source": [
    "# Pruebas con DB\n",
    "def main_mysql():\n",
    "    # Crear una instancia de la clase ConexionMySQL\n",
    "    db_mysql = ConexionMySQL(\n",
    "        host=\"localhost\",\n",
    "        port=3306,\n",
    "        user = \"root\",\n",
    "        password = \"admin\",\n",
    "        database = \"db_insitel\"\n",
    "    )\n",
    "\n",
    "    # Ejecutar una consulta a la base de datos\n",
    "    db_mysql.cursor.execute(\"SELECT contratante, objeto FROM experiencia;\")\n",
    "\n",
    "    # Obtener los resultados\n",
    "    resultados = db_mysql.cursor.fetchall()\n",
    "    # Imprimir los resultados\n",
    "    for fila in resultados:\n",
    "        print(fila)\n",
    "\n",
    "    # Cerrar la conexión\n",
    "    db_mysql.cursor.close()\n",
    "    db_mysql.conexion.close()\n",
    "    print(\"Conexión cerrada\")\n",
    "\n",
    "main_mysql()"
   ],
   "id": "df2a91cab0074de9",
   "outputs": [],
   "execution_count": null
  },
  {
   "metadata": {
    "ExecuteTime": {
     "end_time": "2025-07-14T20:47:03.131198Z",
     "start_time": "2025-07-14T20:47:03.045382Z"
    }
   },
   "cell_type": "code",
   "source": [
    "class ComparacionDescripcion(BaseModel):\n",
    "    palabras_similares: List[str] = Field(description=\"Palabras o frases similares encontradas en ambos archivos\")\n",
    "    porcentaje_similitud: float = Field(description=\"Porcentaje de similitud entre la descripción solicitada y las de la base\")"
   ],
   "id": "3e7bff9867473cac",
   "outputs": [],
   "execution_count": 35
  },
  {
   "metadata": {
    "ExecuteTime": {
     "end_time": "2025-07-14T20:49:14.278249Z",
     "start_time": "2025-07-14T20:49:07.072349Z"
    }
   },
   "cell_type": "code",
   "source": [
    "response = client.responses.create(\n",
    "    model='gpt-4o-mini',\n",
    "    input=[\n",
    "        {\n",
    "            'role': 'user',\n",
    "            'content': [\n",
    "                {'type': 'input_file', 'file_id': exp_base.id},\n",
    "                {'type': 'input_file', 'file_id': exp_lic3.id},\n",
    "                {'type': 'input_text', 'text': (\n",
    "                    'Compara el objeto solicitado en el archivo de licitación con las descripciones de objetos disponibles en la base de datos, tener en cuenta que somos INSITEL, una empresa de telecomunicaciones, ciberseguridad y automatización.'\n",
    "                    'Para cada objeto solicitado, identifica las palabras o frases más similares entre ambos docuemntos que se relacionen entre si.'\n",
    "                    'Calcula un porcentaje de similitud basado en coincidencia semántica, de contexto y área de trabajo. '\n",
    "                    'Devuélveme solo una lista JSON, con esta estructura exacta por cada objeto solicitado:\\n\\n'\n",
    "                    '[\\n'\n",
    "                    '  {\\n'\n",
    "                    '    \"palabras_similares\": [\"servicio técnico\", \"mantenimiento de hardware\"],\\n'\n",
    "                    '    \"porcentaje_similitud\": 87.5\\n'\n",
    "                    '  },\\n'\n",
    "                    '  {\\n'\n",
    "                    '    \"palabras_similares\": [\"salud\", \"cocina\", \"deportes\"],\\n'\n",
    "                    '    \"porcentaje_similitud\": 10.3\\n'\n",
    "                    '  },\\n'\n",
    "                    ']\\n\\n'\n",
    "                    \"No incluyas explicaciones ni texto adicional, solo el arreglo JSON.\"\n",
    "                )}\n",
    "            ]\n",
    "        }\n",
    "    ]\n",
    ")"
   ],
   "id": "d19fa352da8769",
   "outputs": [],
   "execution_count": 38
  },
  {
   "metadata": {
    "ExecuteTime": {
     "end_time": "2025-07-14T20:49:21.461584Z",
     "start_time": "2025-07-14T20:49:21.450352Z"
    }
   },
   "cell_type": "code",
   "source": [
    "salida = response.output_text.strip()\n",
    "\n",
    "try:\n",
    "    lista_dicts = json.loads(salida)\n",
    "    comparaciones = [ComparacionDescripcion(**item) for item in lista_dicts]\n",
    "    for comp in comparaciones:\n",
    "        print(comp)\n",
    "except Exception as e:\n",
    "    print(\"Error al convertir la salida en objetos ComparacionDescripcion: \", e)\n",
    "    print(\"Respuesta del modelo:\\n\", salida)\n"
   ],
   "id": "6dde8c2d07737e83",
   "outputs": [
    {
     "name": "stdout",
     "output_type": "stream",
     "text": [
      "Error al convertir la salida en objetos ComparacionDescripcion:  Expecting value: line 1 column 1 (char 0)\n",
      "Respuesta del modelo:\n",
      " ```json\n",
      "[\n",
      "  {\n",
      "    \"palabras_similares\": [\"prestación de servicios profesionales\", \"equipo básico en salud\"],\n",
      "    \"porcentaje_similitud\": 75.0\n",
      "  },\n",
      "  {\n",
      "    \"palabras_similares\": [\"ensamblaje de equipos\", \"conexión de dispositivos\"],\n",
      "    \"porcentaje_similitud\": 40.5\n",
      "  },\n",
      "  {\n",
      "    \"palabras_similares\": [\"instalación de red\", \"implementación de ciberseguridad\"],\n",
      "    \"porcentaje_similitud\": 62.8\n",
      "  }\n",
      "]\n",
      "```\n"
     ]
    }
   ],
   "execution_count": 39
  },
  {
   "metadata": {},
   "cell_type": "code",
   "outputs": [],
   "execution_count": null,
   "source": "",
   "id": "657a5c55b980415e"
  }
 ],
 "metadata": {
  "kernelspec": {
   "display_name": "Python 3",
   "language": "python",
   "name": "python3"
  },
  "language_info": {
   "codemirror_mode": {
    "name": "ipython",
    "version": 2
   },
   "file_extension": ".py",
   "mimetype": "text/x-python",
   "name": "python",
   "nbconvert_exporter": "python",
   "pygments_lexer": "ipython2",
   "version": "2.7.6"
  }
 },
 "nbformat": 4,
 "nbformat_minor": 5
}
