{
 "cells": [
  {
   "cell_type": "code",
   "id": "initial_id",
   "metadata": {
    "collapsed": true,
    "ExecuteTime": {
     "end_time": "2025-07-17T22:00:59.839850Z",
     "start_time": "2025-07-17T22:00:58.959789Z"
    }
   },
   "source": [
    "\n",
    "from openai import OpenAI\n",
    "import mysql.connector\n",
    "from pydantic import BaseModel, Field\n",
    "from typing import List\n",
    "import json\n",
    "import numpy as np\n",
    "from sklearn.metrics.pairwise import cosine_similarity\n",
    "\n",
    "client = OpenAI(api_key='')"
   ],
   "outputs": [],
   "execution_count": 38
  },
  {
   "metadata": {
    "ExecuteTime": {
     "end_time": "2025-07-17T16:28:45.433893Z",
     "start_time": "2025-07-17T16:28:42.631217Z"
    }
   },
   "cell_type": "code",
   "source": [
    "exp_base= client.files.create(\n",
    "    file= open('experiencia.pdf', 'rb'),\n",
    "    purpose= 'user_data'\n",
    ")\n",
    "exp_lic1= client.files.create(\n",
    "    file= open('exp1.pdf', 'rb'),\n",
    "    purpose= 'user_data'\n",
    ")\n",
    "exp_lic2= client.files.create(\n",
    "    file= open('exp2.pdf', 'rb'),\n",
    "    purpose= 'user_data'\n",
    ")\n",
    "exp_lic3= client.files.create(\n",
    "    file= open('exp3.pdf', 'rb'),\n",
    "    purpose= 'user_data'\n",
    ")"
   ],
   "id": "eb5b6238238cd834",
   "outputs": [],
   "execution_count": 2
  },
  {
   "metadata": {
    "ExecuteTime": {
     "end_time": "2025-07-17T21:11:58.428825Z",
     "start_time": "2025-07-17T21:11:57.968682Z"
    }
   },
   "cell_type": "code",
   "source": [
    "# Conexión a la base de datos:\n",
    "class ConexionMySQL:\n",
    "    def __init__(self, host, port, user, password, database):\n",
    "        self.host = host\n",
    "        self.port = port\n",
    "        self.user = user\n",
    "        self.password = password\n",
    "        self.database = database\n",
    "\n",
    "        # Aquí iría la lógica para conectarse a MySQL\n",
    "        self.conexion = mysql.connector.connect(\n",
    "            host=self.host,\n",
    "            port=self.port,\n",
    "            user=self.user,\n",
    "            password=self.password,\n",
    "            database=self.database\n",
    "        )\n",
    "        self.cursor = self.conexion.cursor()\n",
    "        if self.conexion.is_connected():\n",
    "            # Verificar la conexión\n",
    "            print(\"Conexión exitosa a la base de datos MySQL\")\n",
    "        else:\n",
    "            print(\"Error al conectar a la base de datos MySQL\")"
   ],
   "id": "ea0a84c8a7f106ea",
   "outputs": [],
   "execution_count": 6
  },
  {
   "metadata": {},
   "cell_type": "code",
   "source": [
    "# Pruebas con DB\n",
    "listas = []\n",
    "def main_mysql():\n",
    "    # Crear una instancia de la clase ConexionMySQL\n",
    "    db_mysql = ConexionMySQL(\n",
    "        host=\"localhost\",\n",
    "        port=3306,\n",
    "        user = \"root\",\n",
    "        password = \"admin\",\n",
    "        database = \"db_insitel\"\n",
    "    )\n",
    "\n",
    "    # Ejecutar una consulta a la base de datos\n",
    "    db_mysql.cursor.execute(\"SELECT objeto FROM experiencia;\")\n",
    "\n",
    "    # Obtener los resultados\n",
    "    resultados = db_mysql.cursor.fetchall()\n",
    "    # Imprimir los resultados\n",
    "    lista = [fila[0] for fila in resultados]\n",
    "    # Cerrar la conexión\n",
    "    db_mysql.cursor.close()\n",
    "    db_mysql.conexion.close()\n",
    "    print(\"Conexión cerrada\")\n",
    "    return lista\n",
    "main_mysql()"
   ],
   "id": "df2a91cab0074de9",
   "outputs": [],
   "execution_count": null
  },
  {
   "metadata": {
    "ExecuteTime": {
     "end_time": "2025-07-17T21:34:08.310826Z",
     "start_time": "2025-07-17T21:32:43.834204Z"
    }
   },
   "cell_type": "code",
   "source": [
    "array_empty = []\n",
    "listas = main_mysql()\n",
    "print(listas)\n",
    "print('**********')\n",
    "for list in listas:\n",
    "\n",
    "    response2 = client.embeddings.create(\n",
    "      model=\"text-embedding-3-small\",\n",
    "      input=list\n",
    "    )\n",
    "    embeding =  response2.data[0].embedding\n",
    "    array_empty.append(embeding)\n",
    "print(array_empty)"
   ],
   "id": "a61807d63377d3e1",
   "outputs": [
    {
     "name": "stdout",
     "output_type": "stream",
     "text": [
      "Conexión exitosa a la base de datos MySQL\n",
      "Conexión cerrada\n",
      "['Suministro DDP e instalación de equipos de entretenimiento (audiovisuales), redes eléctricas, de datos y alarmas, descritos en el listado de precios unitarios de este documento, para la respuesta en funcionamiento de los Puntos Vive Digital ubicados en los municipios de Monteria, Sincelejo, Valledupar, Barrancabermeja, Apartado, Turbo, Puerto Berrio y Santa Rosa de Osos.', 'Suministro, instalación, configuración y puesta en marcha de la Red WiFi de las Oficinas de INPRO DE COLOMBIA S.A.S.  en la Ciudad de Bogotá.', 'Suministro, instalación, configuración y puesta en servicio de equipos activos de red para la infraestructura de ERT de Cali, Tulua y Palmira.', 'Prestación del Servicio profesional para el apoyo y soporte en la elaboración, por parte de la entidad, del diseño del sistema de seguridad integral e inteligente de CAMPROVIMPO SIO', 'El contratista se obliga para con EMTEL S.A. E.S.P. a realizar “Suministro e instalación a todo costo de equipos y elementos de red de datos y potencia requeridos en los puntos Vive Digital ubicados en Popayan, Caloto, Santander de Quilichao, Puerto Tejada, Cali Potrero Grande y Cali 15, Armenia, Pereira, Dosquebradas, Ibague, Neiva, Pasto, Ipiales y Tumaco”', 'Suministro de bienes y servicios requeridos para el desarrollo de soluciones e infraestructura de telecomunicaciones, con la finalidad de ampliar la cobertura de infraestructura de telecomunicaciones así como el establecimiento de centros de acceso comunitario a Internet, para el DEPARTAMENTO DE BOYACA, en 200 instituciones publicas y educativas.', 'La empresa INGENIERIA DE SISTEMAS TELEMATICOS LTDA (INSITEL), suministro e instalo equipos activos de red para la implementación de un backbone entre los edificios que conforman la Alcaldia Municipal de Soacha, el suministro e instalación de equipos activos y tarjetas de red inalámbricas para la implementación de una red WLAN entre el edificio del Palacio Municipal y suministro e instalación de una UPS para el Edificio del Palacio Municipal de Soacha.', 'Aprovisionamiento, suministro, instalación, puesta en servicio y mantenimiento de la red troncal y de acceso en desarrollo del proyecto de cobertura para el departamento del Tolima bajo el marco del convenio entre FONDOTIC_GOBERNACIÓN DEL TOLIMA Y ERT', 'Suministro de Kioskos Interactivos para agilizar los procesos, transacciones de pagos parciales, duplicados de facturas, para los Teleclientes de Pereira, Dosquebradas, Cartago, La Virginia,. Incluye procesador, Memorias, Tarjetas de Red, Cables y accesorios', 'Adquisición de equipos para el fortalecimiento del plan nacional de vigilancia comunitaria por cuadrantes Sistemas de Telepresencia', 'ADQUISICION DE VIDEOWALL, TELEVISORES INTERACTIVOS, SISTEMAS DE TELEPRESENCIA Y DIGITALIZACIÓN FOTOGRAFICA, PARA EL FORTALECIMIENTO DEL PLAN NACIONAL DE VIGILANCIA', 'Implementación, gestión, suministro, instalación, puesta en servicio y mantenimiento de una solución inalámbrica para la red de acceso en banda ancha a internet', 'Entregar a titulo de compraventa a la Procuraduría un circuito cerrado de televisión y un sistema de control de acceso para el proyecto de modernización y seguridad de la dirección nacional de investigaciones especiales de la Procuraduría General de la Nación, incluyendo instalación, capacitación, puesta en marcha y mantenimiento.', 'Suministro e instalación de un sistema de gestión y seguridad para 220 armarios para Armenia y 100 llaves de acceso.', 'Suministro DDP al interior del Almacén General de EDATEL en Medellín de radioenlaces en la banda no licenciada de 5,8 Ghz (con accesorios de instalación), sistema de gestión local y remota, incluye capacitación. Compuesto por Radioenlaces con una capacidad de 100 Mbps Full duplex ( capacidad neta de 200 Mbps), incluyendo todos los accesorios de instalación', 'Suministro DDP al interior del Almacén General de EDATEL en Medellin de radioenlaces en la banda no licenciada de 5,8 Ghz (con accesorios de instalación), sistema de gestión local y remota, incluye capacitación, de acuerdo con las especificaciones técnicas requeridas por EDATEL', 'Adquisición de Equipos Activos switches', 'Suministro, montaje y puesta en marcha de equipos de incendio, acceso y circuito cerrado de televisión', 'Prestación de servicios de instalación, adecuación, red LAN y red eléctrica de 58 salas en instituciones educativas, su posterior mantenimiento preventivo y correctivo, para contribuir con la implementación del programa de uso de medios, tics y bilingüismo en el departamento del Tolima', 'Suministrar doscientos (200) equipos de acceso inalámbrico denominados HOT spots O Access Point con sus respectivos kits compuestos de cables, conectores, adaptadores de potencia, accesorios y elementos de montaje, el sistema de gestion con su licenciamiento, así como los servicios de capacitación e instalación de los mismos.', 'Adquisición, instalación, puesta en marcha de la red WiFi con cubrimiento masivo, en las sedes de Teusaquillo y sede 68 de la Unipanamericana Compensar, integrando el suministro de equipos access point Indoor y Outdoor, con servicios de configuración, soporte 5x8 Nivel 1, 2 y 3 asegurando planes de mejoras tecnológicas de actualizaciones en software mas suministro.', 'Contratar la compraventa de equipos tecnológicos para la implementación del proyecto “Desarrollo estrategia para apropiar el conocimiento en gestión del riesgo en la población de municipios del Tolima”', 'Item 3. Adquisición de repuestos para equipos Switch Core', 'Suministro e instalación de Radio enlaces punto a multipunto en banda no licenciada para el acceso inalámbrico en el municipio de Tulua', 'Adquisición de un lote compuesto de Switch Cisco 48 PTS, Switch 24 PTS, Access Point, Módulos Transceiver 10BG para FO (SW CISCO 2960) Sensores Biométricos', 'Adquisición instalación y capacitación de Licencia corporativa HBV/IHMS', 'Adecuaciones referentes a cableado estructurado, electrico, centro de computo, equipos activos y mobiliario para sistemas de oficina abierta, edificio principal Alcaldia, Municipio de Chia, a todo costo.', 'Adquisición, instalación y Capacitación de Software Mike 11 HD para el INSTITUTO DE HIDROLOGÍA, METEOROLOGÍA Y ESTUDIOS AMBIENTALES -IDEAM', 'El contratista se obliga con ETB a entregar, instalar, probar y poner en servicio una solución de control de acceso a los armarios telefónicos, cámaras telefónicas con tapas redondas, de paso dobles y sencillas, concentradores de linea (RSU y Shelter), puertas de salones de equipo y el monitoreo para los cables primarios y secundarios, que integre sensores de ambiente como temperatura, humedad y afines, así como el entrenamiento correspondiente, de conformidad con lo previsto en su oferta, en la negociación y en los términos de referencia.', 'Suministro de bienes y servicios requeridos para el desarrollo de soluciones e infraestructura de telecomunicaciones, con la finalidad de ampliar la cobertura de infraestructura de telecomunicaciones así como el establecimiento de centros de acceso comunitario a Internet, para el DEPARTAMENTO DE NORTE DE SANTANDER, en 200 instituciones publicas y educativas.', 'Suministro de bienes y servicios requeridos para el desarrollo de soluciones e infraestructura de telecomunicaciones, con la finalidad de prestar el servicio de conectividad banda ancha para EMPRESAS PUBLICAS DE CUNDINAMARCA S.A. E.S.P. y DEPARTAMENTO DE CUNDINAMARCA Fase II, en 381 instituciones educativas', 'Adquisición de un sistema de telepresencia para la Inspección General de la Policia Nacional', 'Adquisición, instalación y puesta en marcha de la red WiFi en 20 puntos distribuidos en, 19 puntos Indoor y 1 punto Outdoor del Colegio Panamericano Bucaramanga, Integrando el suministro y servicios de configuración, soporte 5 x 8 con Insitel S.A. Soporte por 5 años para la controladora asegurando planes de mejoras tecnológicas de actualizaciones en software y capacitación para 5 cinco personas en Bucaramanga en las instalaciones del Colegio.', 'Suministro de equipos Ruckus (Indoor y Outdoor), al igual que Soporte de los mismos. Discriminados en la siguiente tabla:', 'EL CONTRATISTA se obliga con FONADE a realizar la dotación, instalación y puesta en funcionamiento de la infraestructura técnica de los puntos vive digital fase 2 en el marco del plan vive digital del Ministerio de las Tecnologias de la Información y las Comunicaciones región 3, de acuerdo con la descripción, especificaciones y demás condiciones establecidas en las Reglas de Participación del Proceso OPC 086-2014, adendas No 1,2,3,4 y 5 los documentos e información técnica suministrada por FONADE y la oferta presentada por EL CONTRATISTA, todo lo cual hace parte integral del contrato.', 'EL CONTRATISTA se obliga con FONADE a realizar la dotación, instalación y puesta en funcionamiento de la infraestructura técnica de los puntos vive digital fase 2 en el marco del plan vive digital del Ministerio de las Tecnologias de la Información y las Comunicaciones región 35 de acuerdo con la descripción, especificaciones y demás condiciones establecidas en las Reglas de Participación del Proceso OPC 086-2014, adendas No 1,2,3,4 y 5 los documentos e informaci6n técnica suministrada por FONADE y la oferta presentada por EL CONTRATISTA, todo lo cual hace parte integral del contrato.', 'Adquirir 34 ODUs, 34 IDUs 34 Adaptadores de potencia, 34 Antenas de 60 centímetros. 34 cables CAT5 para implementar radioenlaces punto a punto de mínimo 20 Km en banda no licenciada con interfases para 4 E1 y dos puertos Ethernet nativos, que soporten multifrecuencias en el rango de banda ancha 5.x Ghz a 5,8 Ghz FCC/IC con los accesorios, la gestión, y la respectiva capacitación. La entrega del suministro deberá realizarse bajo el termino de DDP, en el almacén de EMCALI E.I.C.E E.S.P', 'Ampliación del sistema control de acceso de la empresa para estaciones', 'Implementar una solución de comunicaciones inalámbricas, con tecnologia WI-FI, con su respectivo centro de gestión en 13 instituciones educativas en el municipio de Yumbo. La implementación incluye el diseño de la red WI-FI, los equipos de acceso inalámbricos denominaciones también hot spots o accesos point. Sistemas de gestión y los servicios de instalación, configuración, puesta en servicio y soporte, de conformidad con el formulario de cantidades y precios y las especificaciones técnicas.', 'Contrato marco suministro de bienes, servicios y soporte de hardware y software orientado a la seguridad de la información', 'Contrato marco suministro de bienes, servicios y soporte de hardware y software orientado a la seguridad de la información', 'El presente contrato marco tiene por objeto el suministro de bienes y servicios por parte del PROVEEDOR de hardware y/o software y/o servicios orientados a la seguridad de la información a favor del COMpRADOR, y a cambio de la contraprestación a que éste último se obliga en la cláusula tercera del presente Contrato.', 'Contrato marco suministro de bienes, servicios y soporte de hardware y software orientado a la seguridad de la información', 'Suministro de bienes y servicios requeridos para la puesta en servicio de un sistema WIFI para 346 instituciones educativas de la secretaria de Educación de Cali', 'Adquisición de lectores de chip RF de 125 KHZ para ambiente metálico contenido en las placas de identificación policial con chip', 'Diseño, suministro, instalación, configuración, pruebas puesta en marcha de un sistema de monitoreo de trafico a través de camaras de CCTV integradas con el Centro de Gestión de Transito del Sistema Inteligente de Transporte de Bogotá SIT', 'Suministro de bienes y servicios requeridos para el desarrollo de soluciones e infraestructura de telecomunicaciones, con la finalidad de ampliar la cobertura de infraestructura de telecomunicaciones así como el establecimiento de centros de acceso comunitario a internet, para el DEPARTAMENTO DE CUNDINAMARCA, en 300 instituciones publicas y educativas', 'Adquisición de elementos para telecomunicaciones', 'El suministro e instalación del sistema de proyección para la sala de juntas de la gerencia general de la empresa', 'UT ACCESO METRO DE MEDELLIN 2015', 'Arrendamiento de 12 equipos scanner para la presentación de los servicios de gestión documental', 'Suministrar cinco mil novecientos (5,900) modems ADSL+2 con 4 puertos Ethernet y WI-FI. Todos los equipos deben contar con los respectivos Kits y deberán entregarse en los sitios asignados por EMCALI.', 'Suministrar tres mil ochocientos (3,800) modems ADSL + con 4 puertos Ethernet y WI-FI. Todos los equipos deben de contar con los respectivos Kits y deberán entregarse en los sitios asignados por EMCALI.', 'Suministrar veinte mil (20,000) modems ADSL + con 4 puertos Ethernet y WI-FI. Todos los equipos deben contar con los respectivos Kits y deberán entregarse en los sitios asignados por EMCALI en las fechas establecidas en cada requerimiento de compra.', 'Adquirir la reposición del hardware y software de los Data Center de Limonar y San Fernando, los servicios de entrenamiento, instalación, configuración y puesta en servicio del Software y Hardware y los servicios de atención a eventos de fallas durante la garantía de los equipos y software. La entrega de los bienes se deben realizar en los Nodos de Limonar y San Fernando de la gerencia de Telecomunicaciones', 'Contratar el servicio de mantenimiento correctivo y preventivo a los sistemas de seguridad electrónica del edificio Murillo Toro ubicado en la ciudad de bogota', 'El contratista se obliga con FONADE al ”REALIZAR LA DOTACION, INSTALACION Y PUESTA EN FUNCIONAMIENTO DE LA INFRAESTRUCTURA TECNICA DE LOS PUNTOS VIVE DIGITAL LAB FASE 2, EN EL MARCO DEL PLAN VIVE DIGITAL DEL MINISTERIO DE TECNOLOGIAS DE LA INFORMACION Y LAS COMUNICACIONES”, Bajo su responsabilidad, de acuerdo con la descripción, especificaciones técnicas y demás condiciones establecidas en la carta de invitación a ofrecer del proceso CPR 025-2016 y sus anexos, suministrados por FONADE y la oferta presentada por el contratista, todo lo cual hace parte integral del contrato.', 'Que según el objeto del contrato celebrado mediante carta de aceptación de oferta MCRN – 011, suscrito el día 26 de abril de 2017, El contratista, se comprometió para con La registraduría, a la adquisición de equipos de identificación biométrica para la Registraduria Nacional del Estado Civil, de conformidad con las especificaciones descritas y detalladas en los estudios previos, la invitación Publica N° 012 de 2017 – RNEC y la propuesta presentada por el contratista, los cuales forman parte integral de la carta de aceptación.', 'ADQUISICIÓN DE REPUESTOS EN DESARROLLO DE OTRO SI No1 AL CONTRATO INTERADMINISTRATIVO No 732 DE 2015 SUSCRITO ENTRE ETB Y FONDO DE VIGILANCIA Y SEGURIDAD DE BOGOTÁ', 'SUMINISTRO DE REPUESTOS Y MATERIALES PARA ASEGURAR EL MTTO PREVENTIVO Y CORRECTIVO DEL SISTEMA DE VIDEO VIGILANCIA PUBLICA DE BOGOTA, ASI COMO LA COMPRAVENTA DE 27 CAMARAS REFERENCIA IP5000HD DE ACUERDO CON EL ALCANCE Y CONDICIONES DE LOS SERVICIOS PROVISTOS EN SU OFERTA', 'CONTRATAR LA ADQUISICION, PROGRAMACION, CONFIGURACION DE EQUIPOS TECNOLOGICOS DE CAMARAS CCTV, LA ADECUACION E IMPLEMENTACION DEL CUARTO DEL CIRCUITO CERRADO DE TELEVISION- CCTV, SOLUCION DE ALMACENAMIENTO, UNIFICACION E INTEGRACION DEL SISTEMA DE CONTROL DE ACCESO, ASI COMO LOS SERVICIOS DE MTTO Y SOPORTE, CAPACITACION, PUESTA EN MARCHA Y FUNCIONAMIENTO DE LOS EQUIPOS', 'el contratista se obliga para con UNE EPM Telecomunicaciones S.A a entregar el título de venta de Hardware correspondiente a equipos de microondas en banda no licenciada de 5 GHZ, con sus respectivos sistemas radiantes, con capacidad de un (1) E1 hasta (4) E1 y de una interfaz FE, así como a otorgar la correspondiente licencia de uso del software incorporado en los equipos y efectuar su instalación y puesta en servicio, así como la prestación de servicio de soporte, mantenimiento y Capacitación.', 'Adquisición, instalación, configuración, monitoreo y Gestión de un administrador de ancho de banda y solución wifi (con licenciamiento) garantía, soporte y capacitación para la ANI', 'Suministro, instalación y soporte equipos Sophos, adquisición de licencia para equipos Sophos', 'Cliente 3 - Referencia Producto  (preferiblemente en Latinoamérica)', 'Adquisición de elementos para telecomunicaciones', 'Ampliación de la red de seguridad del Municipio de Rionegro, mediante la instalación, reubicación y sustitución de cámaras de seguridad', 'Suministro de CPS ANTENAS BACKHAUL POE Y LPU', 'Servicios de construcción para el desmonte, almacenamiento y reinstalación del sistema de proyección', 'Adquisición de placas de identificación Policial con chip', 'Adquirir a título de compraventa la renovación de licenciamiento firewall para FUGA', 'Contratar la compra e instalación de un sistema de video y sonido para la modernización del auditorio  del centro de tecnologías del transporte SENA', 'Suministro de equipos, elementos y materiales para la implementación de una RED FTTH GPON', 'La prestación de servicios de instalación, configuración, monitoreo, suministro de elementos, soporte, mantenimiento  preventivo y correctivo, incluida la capacitación y el personal necesario que disponga el contratista para garantizar la operación y gestión del sistema 7 X 24 y soporte remoto 7 X 24 para el diagnostico y solución del problema presentados en la aplicación o cualquier elemento de la plataforma Sigar IV', 'Adecuación, dotación, instalación y puesta en funcionamiento de la infraestructura técnica de los puntos vive digital en el marco del Plan Vive Digital del Ministerio de  Tecnologías de la Información y las Comunicaciones', 'suministro, instalación, operación, administración, mantenimiento, promoción y apropiación de la infraestructura necesaria, para la prestación del servicios de acceso a internet a la comunidad (transeúntes, estudiantes, turistas  y el público general) a través de redes inalámbricas con tecnología wifi con cualquier dispositivo de usuario habilitado para conectarse a dichas redes en sitios de alta afluencia de la población', 'Suministro, instalación y puesta en operación de un sistema de control de acceso biométrico y de proximidad, y de un sistema de circuito cerrado de televisión CCTV para los datacenter de ETB con el fin de asegurar las óptimas condiciones de seguridad física de los mismos', 'Suministro, diseño, implantación, soporte, actualización, mantenimiento, puesta en funcionamiento, operación, montaje, desmontaje, pruebas, alquiler y construcción de sitios de repetición de un sistema de comunicaciones', 'Los armarios, obras civiles y sistema de control de acceso para el Sistema de Comunicaciones Inteligente de Transporte\\n(SIT) DE Bogotá, de conformidad con las condiciones previstas en la oferta presentada', 'Suministro e instalación de arquitectura hardware y software para la ampliación del Datacenter de EMTEL, en cumplimiento del contrato modernización y optimización de los servicios administrativos de la secretaria de transito y transporte de Popayan', 'Adquisición de equipos e instrumentos requeridos para la ejecución del convenio 321 de 2019 cuyo objeto es aunar esfuerzos técnicos, administrativos y financieros entre la corporación autónoma regional del cauca y el municipio de Popayán para la estructuración de un sistema de monitoreo hidroclimático con componente tecnológico para el análisis de las variables de interese en la gestión del sistema de alertas tempranas ante las amenazas por inundación y avenida torrencial en el municipio de Popayán — departamento del cauca', 'Escenario Virtual Base, con la estructura para la ubicación de los diferentes tipos de Stands, incluida la programación, la iluminación y ambientación', 'Plataforma de ferias virtuales Multipropósito para la realización de una feria virtual en 3D con un escenario virtual base y estructura para la ubicación de 30 stands', 'Adquisición de mobiliario y equipos especializados para la automatizacón del laboratorio de plataforma interactiva de bilinguismo de la UDEC Seccional Girardot ', 'Contratar el suminsitro de switches con todos sus accesorios de montaje Que seran suministrados en el almacen Central de Emcali ', 'Prestación de servicios sobre la herramienta análisis de vulnerabilidades celebrado entre Ingenieria de Sistemas y Banco Mundo Mujer', 'Suministro de reflectómetro óptico en el dominio de tiempo OTDR', 'Servicios de terminales o radios análogos para apoyar la contingencia del proyecto Iuango', 'Renovación Licenciamiento Microsoft Open Value subcription OVSES ', 'Adquirir bienes y servicios para integrar el sistema de acceso WIFI de tal forma que fortalezca la actual red inalambrica, de acuerdo con el Formulario de catnidades y Precios Anexo 4  con la Especificaciones Técnicas de que trata el Anexo No. 2 de la persentes CEC ', 'Es una solución de Switches que garantice la prestación de servicios al INSTITUTO DISTRITAL DE PROTECCIÓN Y BIENESTAR ANIMAL (IDPYBA) de conformidad con los presentes terminos de referencia y el manual de contratacion de ETB.', 'La prestación de servicios de soporte tecnico en sitio o remoto para el diagnostico y solución de problemas, mantenimiento preventivo, mantenimiento correctivo, monitoreo, reparación, suministro de respuestos, intalación y configuración para la plataforma de SIGAR de ETB y del cliente SDM, incuida su apliación, de conformidad con lo estipulado en los terminos de referencia en la oferta contraoferta y en el manual de contratación de ETB.', 'Contratar el suminsitro de cableado estructurado requeridos para el mantenimiento de las redes de acceso de la GUENT en la operación Que seran suministrados en el almacen central de Emcali o en los sitios indicados pro EMCALI de acuerdo al formulario de especificaciones técnicas y al formulario de cantidades y precios', 'Adquisición de elementos de última generación para coadyudar al mantenimiento de las condiciones necesarias de seguridad de todos los habitantes del departamento de San Andres  Providencia y Santa Catalina con destino al comando especifico de San Andres departamente de Policía San Andres , Migración Colombia y Fuerza Aerea de acuedo con las especificaciones y caracteristicas tecnicas contempladas en el anexo 1 demoninado ficha tecnica del pliego', 'Prestar el servicio de conectividad a internet para los establecimientos educativos públicos de los municipios no certificados en el Departamento de Nariño, de acuerdo al programa de Conexión total liderado por el Ministerio de Educación Nacional, de conformidad con la licitación pública No. 026-2014 y propuesta presentada.', 'El contratista se compromete para con el Municipio a la prestación del servicio de conectividad de Internet a los establecimientos educativos públicos del Municipio de Pasto, por medio de la implementación del proyecto Conexción Tota - Red Educativo Nacional de Ministerio de Educación Nacional', 'Alquiler de RED - Radioenlace  Soporte ', 'Mantenimiento preventivo y correctivo de la Instrumentación y transmisión convencional mediante gprs de los puntos de presiones de la Empresa de acueducto y alcantarillado de Bogotá ', 'suministrar materiales de componentes eléctricos, electrónicos, herramientas, accesorios de instalación de servicios de telefonía fija e internet y elementos de fibra óptica con el fin de atender las necesidades que se presenten, tanto en la estructura de la red externa e interna de la empresa. Para así así garantizar los servicios que presta la entidad.', 'Prestación de servicios de tecnología de la información y comunicaciones con el fin de cumplir con las funciones y obligaciones contracturales adquiridas por parte de la Imprenta Departamental Soluciones Integrales y de las comunicaciones:\\n1. Brindar servicios relacionados con las tecnologías de la infromación y las comunicaciones que incluye 1.1) Suministro de Hardware y Software 1.2) Suministro e instalación de soluciones tecnológicas 1.3) Cableados Estructurados 1.4) Conectividad 1.5) Servicios profesionales de diseño y capacitaciuón de infraestructura tecnológica de la información y telecomunicaciones\\n2. Todas las actvidades que cumplan o tengan relación con el presente objeto contractual.', 'Prestar el servicios de diagnostico e inventariio de zonas wifi, dando cumplimiento a los requerimientos del cliente del Departamenteo Risaralda.', 'UT100AUCE´S contratar la adquisición, instalación , configuración, puesta en marcha de los armarios y sistemas de control de acceso y sus componentes, así como el soporte, mantenimiento para toda la solución y las actividades conexas y complementarias para el Sistema de Comunicaciones Inteligente de Transporte (SIT) de Bogotá, en cumplimiento de los requerimientos del cliente Secretaria Distrital de Movilidad, de conformidad con el alcance y especificaciones técnicas requeridas”', 'Establecer los aspectos financieros y comerciales a propósito de la solución integral que ETB provee al cliente EMPRESA DE RENOVACIÓN Y DESARROLLO URBANO D BOGOTÁ, en relación con el CONTRATO INTERADMINISTRATIVO N° 291-2019. /El aporte del COLABORADOR EMPRESARIO consiste en la prestación de Servicio Seguridad perimetral en la sede del cliente EMPRESA DE RENOVACIÓN Y DESARROLLO URBANO DE BOGOTÁ', 'Establecer los aspectos financieros y comerciales a propósito de la solución integral que ETB provee al cliente INSTITUTO DISTRITAL DE PROTECCIÓN Y BIENESTAR ANIMAL - IDPYBA, en relación con el CONTRATO INTERADMINISTRATIVO No 306 DE 2019. El aporte del COLABORADOR EMPRESARIO consiste en brindar un solución de switches para la prestación de servicios LAN, con el fin de dar cumplimiento a los requerimientos del cliente INSTITUTO DISTRITAL DE PROTECCIÓN  Y BIENESTAR ANIMAL (IDYBA).', 'ORDEN PEDIDO 45000559161 y ORDEN PEDIDO 45000548894 Suministro e Instalación 1240 gabinetes con control de acceso para Siemens', 'Adquisición de equipos y licencias para la actualización de la infraestructura tecnológica de la entidad.', 'Suministrar 100  transceiver ctcU y 100 cables utp de un metro de largo ', 'Suministrar 20 pares de radioenlaces en banda no licenciada con todos los cables, conectores, accesorios y elementos de montaje y la respectiva capacitación ', 'Vender cincuenta y seis (56) portátiles marca HP 245 G7 AMD Ryzen, diez (10) computadores de escritorio marca HP EliteDesk \\n705, cincuenta y seis (56) guayas de seguridad para PC, trece (13) cables HDMI, treinta (30) cable red Patch Cord UTP de 2 metros, \\nuna (1) impresora Laserjet Multifunción Monocromaticas, cuatro (4) televisores SmarTv de 65”, un (1) televisor SmarTv de 75”, cuatro \\n(4) soporte pedestal con ruedas para TV, un (1) soporte fijo para TV, un (1) proyector video beam EPSON, un (1) telón eléctrico de 2x2 \\n( en adelante los “Equipos”); ii) El licenciamiento electrónico para los cincuenta y seis (56) portátiles marca HP y los diez (10) \\ncomputadores de escritorio marca HP la cual será perpetua y trasferible de HW T5D-03191(en adelante eñ “Licenciamiento”) del \\nsoftware Office Home and Business 2019, donde estarán disponibles las aplicaciones clásicas de WORD, EXCEL, POWERPOINT y \\nOUTLOOK (el “Software”) y iii) la instalación de los Equipos (la “Instalación”) en la INSTITUCIÓN EDUCATIVA DEPARTAMENTAL LA \\nDANTA – SEDE JERUSALÉN', 'Recuperación placas de indentificación policial con chip que se encuentran en estado fuera de servicio', 'Adquisición de placas de identificación Policial con chip', 'Compra venta de equipos y elementos de accesos de la red de transmisión para servicios corporativos ', 'Suministro de equipos de ultima milla para el acceso de servicios sde voz y de datos con los respectivos accesorios, repecto al grupo 2 ', 'PRESTACIÓN DE SERVICIOS PARA LA TRANSMISION DE VOZ Y DATOS DEL SISTEMA CHINGAZA.', 'Servicio Seguridad perimetral UTM incluyendo la instalación, configuración y puesta en marcha de módulos de fibra, cableado y configuraciones en el equipo para que funcione en IPv6 en la sede del cliente EMPRESA DE RENOVACIÓN Y DESARROLLO URBANO DE BOGOTÁ.', 'Contratar la adquisición, instalación, configuración puesta en toda la solución y las actividades conexas y complementarias para el Sistemas De comunicaciones Inteligente de Transporte SIT de Bogotá, en cumplimiento de los requerimientos de los clientes deETB para las intervenciones de las obras del metro de Bogotá ', 'Suministro de respuestos y accesorios para el mantenimiento electronico de los puntos de presión de zona 2 propiedad de la EAAB marca SIGAR IOT', 'El contratista se compromete para con el municipio atransferir a título de venta equipos Meteorologicos en el marco de la Ejeccuión del Convenio No. 470 de 2021 suscrito entre la corporación autonoma regional y el municipio de Sotará ', 'Recuperación placas de indentificación policial con chip que se encuentran en estado fuera de servicio', 'Establecer los aspectos financieros y comerciales a propósito de la solución integral que ETB provee al cliente EMPRESA DE RENOVACIÓN Y DESARROLLO URBANO D BOGOTÁ, en relación con el CONTRATO INTERADMINISTRATIVO N° 291-2019. /El aporte del COLABORADOR EMPRESARIO consiste en la prestación de Servicio Seguridad perimetral en la sede del cliente EMPRESA DE RENOVACIÓN Y DESARROLLO URBANO DE BOGOTÁ / El aporte del COLABORADOR EMPRESARIO consiste en dar continuidad al Servicio Seguridad perimetral UTM incluyendo la instalación, configuración y puesta en marcha de módulos de fibra, cableado y configuraciones\\nen el equipo para que funcione en IPv6 en la sede del cliente EMPRESA DE RENOVACIÓN Y DESARROLLO\\nURBANO DE BOGOTÁ.', 'Soporte y ampliación con repuestos por demanda del sistema de control de accesos de la empresa', 'Suministro de respuestos y accesorios para el mantenimiento electronico de los puntos de presión ', 'MANTENIMIENTO PREVENTIVO Y CORRECTIVO DE LA INSTRUMENTACIÓN, TRANSMISIÓN Y FUNCIONAMIENTO DE LOS PUNTOS DE PRESIONES DE LA EMPRESA DE ACUEDUCTO Y ALCANTARILLADO DE BOGOTÁ-ESP.', 'Contratar el servicio de apoyo al fortalecimiento de la calidad educativa mediante el uso y aproiación de las TIC en las instituciones educativas del Departamento del Cauca a traves de una estrategia de inclusión tecnológica. Parchetic', 'Prestar servicios de suministro de licenciamiento STATIC-APP-STANDARD Veracode Static Analysis - Per App – Standard, SCA-ADDON-STATIC SCA, VS-PREMIER Veracode Technical & Program Support, requeridas para validación de código seguro y dar cumplimiento a los habilitadores de ciberseguridad de las aplicaciones de Mibanco eIBS, Branch, Magdalena, Jarvis, Corvus, Onbase, para el efecto otorgará licencia de uso. Los servicios de soporte y técnicos serán prestados directamente por\\nel fabricante. Otro Si 1 RENOVACIÓN DEL SERVICIO', 'Establecer los aspectos financieros y comerciales a propósito de la solución integral que ETB provee al cliente LA PREVISORA S.A. COMPAÑÍA DE SEGUROS, en relación con el CONTRATO PARA LA PRESTACIÓN DE LOS SERVICIOS DE TELECOMUNICACIONES Y DE TECNOLOGÍAS DE LA INFORMACIÓN A CLIENTES CORPORATIVOS No. 00081015.\\nEl aporte del COLABORADOR EMPRESARIO consiste en la prestación de servicio de suministro, instalación, configuración y puesta en marcha de equipos de solución CCTV, así como los servicios de garantía, con el fin de dar cumplimiento a la ACEPTACIÓN DE OFERTA 00140706 en relación CONTRATO PARA LA PRESTACIÓN DE LOS SERVICIOS DE TELECOMUNICACIONES Y DE TECNOLOGÍAS DE LA INFORMACIÓN A CLIENTES CORPORATIVOS No. 00081015.', 'Suministro y configuración Zonas Wifi', 'Suministro, diseño, implantación, soporte, actualización, mantenimiento, puesta en funcionamiento, operación, montaje, desmontaje, pruebas, alquiler y construcción de sitios de repetición de un sistema de comunicaciones operativas móviles para las empresas del Grupo EPM, incluyendo la ingeniería y servicios asociados.', 'SUMINISTRO CON INSTALACIÓN DE UN SISTEMA DE MEDICIÓN PARA LOS PUNTOS DE PRESIÓN DE LA EAAB-ESP / DESARROLLO PLATAFORMA / suministro e instalación de cada uno de sus componentes en el Centro Operativo del Agua COA de la EAAB-ESP, ingreso en el sistema de Activos Fijos de la EAAB', 'Establecer los aspectos financieros y comerciales a propósito de la solución integral que ETB provee al cliente EMPRESA DE RENOVACIÓN Y DESARROLLO URBANO D BOGOTÁ, en relación con el CONTRATO INTERADMINISTRATIVO N° 291-2019. /El aporte del COLABORADOR EMPRESARIO consiste en la prestación de Servicio Seguridad perimetral en la sede del cliente EMPRESA DE RENOVACIÓN Y DESARROLLO URBANO DE BOGOTÁ / El aporte del COLABORADOR EMPRESARIO consiste en dar continuidad al Servicio Seguridad perimetral UTM incluyendo la instalación, configuración y puesta en marcha de módulos de fibra, cableado y configuraciones\\nen el equipo para que funcione en IPv6 en la sede del cliente EMPRESA DE RENOVACIÓN Y DESARROLLO\\nURBANO DE BOGOTÁ.', 'Prestación del sevicio de garantía extendida para el sistema de control de acceso de la Empresa', 'Solución de Switches que garantice la prestación de servicios al Instituto Distritial de Protección y Bienestar Animal (IDPYBA) de conformidad con los presentes terminos de referencia y el manual de contratación de ETB ', 'EL CONTRATISTA SE COMPROMETE CON UNIMOS S.A. E.S.P. A REALIZAR EL SUMINISTRO DE EQUIPOS, ELEMENTOS DE REDES DE DATOS Y REDES ELÉCTRICAS, NECESARIOS PARA DAR CUMPLIMIENTO A CONVENIOS Y CONTRATOS INTERADMINISTRATIVOS CELEBRADOS CON LA\\nALCALDÍA MUNICIPAL DE IPIALES.', 'Suministro e instalación de una solución de red inalambrica con equipos y productos marca Aruba para el piso 3 del edificio deEPM con gestión en la nube y portal de autenticación en tierra en las premisas de EPM / Portal captivo/  clearpass', 'SOPORTE TIPO PARTNER EQUIPOS ARUBA AP 535 soporte hardware, software y actualizaciones por un año marca Aruba / ARUBA AP 515 soporte hardware, software y actualizaciones por un año marca Aruba/SOPORTE TIPO PARTNER EQUIPOS ARUBA UXI soporte hardware,software y actualizaciones por un año marca Aruba/SOPORTE TIPO PARTNER EQUIPOS ARUBA CLEARPASS soporte hardware, software y actualizaciones por un año marca Aruba', 'contratar el suministro, licenciamiento, instalación, configuración, pruebas y puesta en marcha de una solución de monitoreo de tráfico a través de cámaras de CCTV integradas con el Centro de Gestión de Transito del Sistema Inteligente de Transporte de Bogotá - SIT con el fin de dar cumplimiento a los requerimientos del cliente Secretaría Distrital de Movilidad-SDM.', 'Compra e instalación de una solución de seguridad perimetral firewall con 27 licencias de endpoint por un año para los equipos de la empras ESPUFLAN ', 'Contratar licencia de firewall por un año para la seguridad perimetral informática de Espuflan ', 'Adquisición, instalación y puesta en funcionamiento de la infraestructura técnica de un (1) CENTRO TIC para el consejo regional indígena\\ndel cauca (CRIC) en el municipio de CALDONO-departamento de CAUCA.', 'Contratar la renovación y activación del licenciamiento de uso para el equipo Firewall marca Sophos, acorde\\ncon las obligaciones adquiridas por ETB con el cliente SECRETARÍA DISTRITAL DE MOVILIDAD.” Todo de conformidad\\ncon las disposiciones de los términos de referencia, sus anexos, adendas, oferta y contraoferta.', 'Contratar los servicios de implementacio?n y configuracio?n del protocolo IPv6, experto en datacenter y redes, y los servicios de mantenimiento preventivo para impresoras y UPS, acorde con las obligaciones adquiridas por ETB con su cliente INSTITUTO DISTRITAL DE PROTECCIO?N Y BIENESTAR ANIMAL .', 'SERVICIO DE SOLUCIÓN PARA SISTEMA WIFI MARCA ARUBA, INCLUIDO INSTALACIÓN, CONFIGURACIÓN, PUESTA A PUNTO Y SOPORTE TÉCNICO PARA LA EMPRESA CARIBEMAR DE LA COSTA S.A.S E.S.P', 'SERVICIO DE SOLUCIÓN DE UN SISTEMA DE SUICHES DE LA MARCA ARUBA, INCLUIDA SUSCRIPCIÓN GESTIÓN ARUBA CENTRAL PARA LA EMPRESA CARIBEMAR DE LA COSTA S.A.S E.S.P,', 'Implementación de procesos deconocimiento del riesgo con acciones enmarcadas en la estrategia de comunicación, monitoreo, y seguimiento del riesgo, mediante sistemas de alerta temprana para fortalecer la capacidad de respuesta ante eventos de origen natural y/o antrópico en los municipios de Miranda y Guachené -Departamento del cauca ', 'Contratar la adquisición de equipos de telecomunicaciones e interconexión de canales inalambricos para lared Rita de la Universidad Distrital Francisco Jose de Caldas de acuerdo con las condiciones y especificaciones previstas en el pliego de condiciones ', 'REALIZAR MANTENIMIENTO PREVENTIVO Y CORRECTIVO DE LAS ZONAS DE ESPACIO PÚBLICO CON ACCESO GRATUITO A INTERNET QUE INTEGRAN\\nEL SISTEMA DE CONECTIVIDAD DISTRITAL E IMPLEMENTAR UNA NUEVA ZONA WIFI EN EL PARQUE TECNOLÓGICO SAN FERNANDO', 'REALIZAR EL SUMINISTRO, IMPLEMENTACIÓN Y SOPORTE DEL FIREWALL QUE ATIENDA LOS REQUERIMIENTOS DE CIBERSEGURIDAD EN EL MARCO DE LA COP16', 'Compra de licencia de Firewall con vigencia de un año para la seguridad perimetral informática de la empresa de servicios públicos de Flandes Tolima', 'Establecer los aspectos financieros y comerciales a propósito de la solución\\nintegral que ETB provee al cliente EMPRESA DE RENOVACIÓN Y DESARROLLO\\nURBANO DE BOGOTÁ, en relación con el CONTRATO INTERADMINISTRATIVO N°\\n410-2023.\\nEl aporte del COLABORADOR EMPRESARIO consiste en dar continuidad al Servicio\\nSeguridad perimetral UTM incluyendo la configuración de módulos de fibra, cableado y\\nconfiguraciones en el equipo para que funcione en IPv6 en la sede del cliente EMPRESA\\nDE RENOVACIÓN Y DESARROLLO URBANO DE BOGOTÁ.', 'Compraventa elementos tecnologicos en el marco del proyecto denominado \"Fortalecimiento del uso y apropiación de las tic en los establecimientos educativos oficiales\"\" Kit de Robotica \"', 'Prestación de servicio para la actualización tecnológica control de acceso en el sistema integrado de transporte', 'Adquisición de placas de identificación Policial con chip', 'Recuperación placas de indentificación policial con chip que se encuentran en estado fuera de servicio', 'Ampliación del programa CCTV mediante la implementación de la fase II de camaras de video vigilancia en sectores priorizados en el municipio de Ipiales Nariño ', 'CONTRATO MARCO SENSORES PARA BLINDOBARRAS TRIARA', 'CONTRATO MARCO SENSORES PARA BLINDOBARRAS TRIARA', 'Suministro Instalación de FO  proyecto ODH 5G 4500733352', 'CONTRATO DE SUMINISTRO E INSTALACIÓN PARA EL CUMPLIMIENTO DE LAS OBLIGACIONES DE HACER (ODH) DERIVADAS DE LA ASIGNACIÓN DEL ESPECTRO 4G Y 5G']\n",
      "**********\n"
     ]
    },
    {
     "name": "stderr",
     "output_type": "stream",
     "text": [
      "IOPub data rate exceeded.\n",
      "The Jupyter server will temporarily stop sending output\n",
      "to the client in order to avoid crashing it.\n",
      "To change this limit, set the config variable\n",
      "`--ServerApp.iopub_data_rate_limit`.\n",
      "\n",
      "Current values:\n",
      "ServerApp.iopub_data_rate_limit=1000000.0 (bytes/sec)\n",
      "ServerApp.rate_limit_window=3.0 (secs)\n",
      "\n"
     ]
    }
   ],
   "execution_count": 22
  },
  {
   "metadata": {
    "ExecuteTime": {
     "end_time": "2025-07-17T21:54:44.548975Z",
     "start_time": "2025-07-17T21:54:43.126026Z"
    }
   },
   "cell_type": "code",
   "source": [
    "lic1 = 'Adquirir la infraestructura de switches de red, incluidos los servicios de instalación, configuración, migración y puesta en producción, para actualizar los componentes de red local y de área amplia, mejorando los servicios básicos de tecnologías de información del IDEAM, en el marco del convenio No. 9677-PPAL001-369-2023 celebrado entre el FNGRD y el IDEAM.'\n",
    "lic2 = 'PRESTACION DE SERVICIOS PROFESIONALES DE ENFERMERIA PARA LA CONFORMACION DEL EQUIPO BASICO EN SALUD N° 11 SEGÚN LA RESÓLUCION 1499 DÉ 26 DE AGOSTO DE 2024, EN LA ZONA URBANA DEL MUNICIPIO VALLE DEL GUAMUEZ DEL DEPARTAMENTO DEL PUTUMAYO.'\n",
    "response3 = client.embeddings.create(\n",
    "  model=\"text-embedding-3-small\",\n",
    "  input=lic2\n",
    ")\n",
    "embeding2 =  response3.data[0].embedding\n",
    "\n",
    "query_embedding = np.array(embeding2)"
   ],
   "id": "4625f1e8157beec2",
   "outputs": [],
   "execution_count": 35
  },
  {
   "metadata": {
    "ExecuteTime": {
     "end_time": "2025-07-17T21:54:46.202834Z",
     "start_time": "2025-07-17T21:54:45.911670Z"
    }
   },
   "cell_type": "code",
   "source": [
    "sims = cosine_similarity([query_embedding], array_empty)[0]\n",
    "top_indices = sims.argsort()[-3:][::-1]\n"
   ],
   "id": "ae27d0866c898679",
   "outputs": [],
   "execution_count": 36
  },
  {
   "metadata": {
    "ExecuteTime": {
     "end_time": "2025-07-17T21:54:47.254642Z",
     "start_time": "2025-07-17T21:54:47.235370Z"
    }
   },
   "cell_type": "code",
   "source": [
    "text_similares = []\n",
    "for idx in top_indices:\n",
    "    print(f\"Indice: {idx}, Similaridad: {sims[idx]:.4f}, Texto: {listas[idx]}\")\n",
    "    text_similares.append(listas[idx])\n",
    "\n",
    "print(text_similares)"
   ],
   "id": "5afe211052029401",
   "outputs": [
    {
     "name": "stdout",
     "output_type": "stream",
     "text": [
      "Indice: 3, Similaridad: 0.4849, Texto: Prestación del Servicio profesional para el apoyo y soporte en la elaboración, por parte de la entidad, del diseño del sistema de seguridad integral e inteligente de CAMPROVIMPO SIO\n",
      "Indice: 132, Similaridad: 0.4779, Texto: EL CONTRATISTA SE COMPROMETE CON UNIMOS S.A. E.S.P. A REALIZAR EL SUMINISTRO DE EQUIPOS, ELEMENTOS DE REDES DE DATOS Y REDES ELÉCTRICAS, NECESARIOS PARA DAR CUMPLIMIENTO A CONVENIOS Y CONTRATOS INTERADMINISTRATIVOS CELEBRADOS CON LA\n",
      "ALCALDÍA MUNICIPAL DE IPIALES.\n",
      "Indice: 46, Similaridad: 0.4725, Texto: Suministro de bienes y servicios requeridos para el desarrollo de soluciones e infraestructura de telecomunicaciones, con la finalidad de ampliar la cobertura de infraestructura de telecomunicaciones así como el establecimiento de centros de acceso comunitario a internet, para el DEPARTAMENTO DE CUNDINAMARCA, en 300 instituciones publicas y educativas\n",
      "['Prestación del Servicio profesional para el apoyo y soporte en la elaboración, por parte de la entidad, del diseño del sistema de seguridad integral e inteligente de CAMPROVIMPO SIO', 'EL CONTRATISTA SE COMPROMETE CON UNIMOS S.A. E.S.P. A REALIZAR EL SUMINISTRO DE EQUIPOS, ELEMENTOS DE REDES DE DATOS Y REDES ELÉCTRICAS, NECESARIOS PARA DAR CUMPLIMIENTO A CONVENIOS Y CONTRATOS INTERADMINISTRATIVOS CELEBRADOS CON LA\\nALCALDÍA MUNICIPAL DE IPIALES.', 'Suministro de bienes y servicios requeridos para el desarrollo de soluciones e infraestructura de telecomunicaciones, con la finalidad de ampliar la cobertura de infraestructura de telecomunicaciones así como el establecimiento de centros de acceso comunitario a internet, para el DEPARTAMENTO DE CUNDINAMARCA, en 300 instituciones publicas y educativas']\n"
     ]
    }
   ],
   "execution_count": 37
  },
  {
   "metadata": {
    "ExecuteTime": {
     "end_time": "2025-07-17T16:28:51.412934Z",
     "start_time": "2025-07-17T16:28:51.402806Z"
    }
   },
   "cell_type": "code",
   "source": [
    "class ComparacionDescripcion(BaseModel):\n",
    "    palabras_similares: List[str] = Field(description=\"Palabras o frases similares encontradas en ambos archivos\")\n",
    "    porcentaje_similitud: float = Field(description=\"Porcentaje de similitud entre la descripción solicitada y las de la base\")"
   ],
   "id": "3e7bff9867473cac",
   "outputs": [],
   "execution_count": 3
  },
  {
   "metadata": {
    "ExecuteTime": {
     "end_time": "2025-07-17T16:29:07.864661Z",
     "start_time": "2025-07-17T16:28:58.782289Z"
    }
   },
   "cell_type": "code",
   "source": [
    "response = client.responses.create(\n",
    "    model='gpt-4o-mini',\n",
    "    input=[\n",
    "        {\n",
    "            'role': 'user',\n",
    "            'content': [\n",
    "                {'type': 'input_file', 'file_id': exp_base.id},\n",
    "                {'type': 'input_file', 'file_id': exp_lic3.id},\n",
    "                {'type': 'input_text', 'text': (\n",
    "                    f'Compara el objeto solicitado {text_similares}en el archivo de licitación con las descripciones de objetos disponibles en la base de datos, tener en cuenta que somos INSITEL, una empresa de telecomunicaciones, ciberseguridad y automatización.'\n",
    "                    'Para cada objeto solicitado, identifica las palabras o frases más similares entre ambos docuemntos que se relacionen entre si.'\n",
    "                    'Calcula un porcentaje de similitud basado en coincidencia semántica, de contexto y área de trabajo. '\n",
    "                    'Devuélveme solo una lista JSON, con esta estructura exacta por cada objeto solicitado:\\n\\n'\n",
    "                    '[\\n'\n",
    "                    '  {\\n'\n",
    "                    '    \"palabras_similares\": [\"servicio técnico\", \"mantenimiento de hardware\"],\\n'\n",
    "                    '    \"porcentaje_similitud\": 87.5\\n'\n",
    "                    '  },\\n'\n",
    "                    '  {\\n'\n",
    "                    '    \"palabras_similares\": [\"salud\", \"cocina\", \"deportes\"],\\n'\n",
    "                    '    \"porcentaje_similitud\": 10.3\\n'\n",
    "                    '  },\\n'\n",
    "                    ']\\n\\n'\n",
    "                    \"No incluyas explicaciones ni texto adicional, solo el arreglo JSON.\"\n",
    "                )}\n",
    "            ]\n",
    "        }\n",
    "    ]\n",
    ")"
   ],
   "id": "d19fa352da8769",
   "outputs": [],
   "execution_count": 4
  },
  {
   "metadata": {
    "ExecuteTime": {
     "end_time": "2025-07-17T16:29:24.310826Z",
     "start_time": "2025-07-17T16:29:24.299754Z"
    }
   },
   "cell_type": "code",
   "source": [
    "salida = response.output_text.strip()\n",
    "\n",
    "try:\n",
    "    lista_dicts = json.loads(salida)\n",
    "    comparaciones = [ComparacionDescripcion(**item) for item in lista_dicts]\n",
    "    for comp in comparaciones:\n",
    "        print(comp)\n",
    "except Exception as e:\n",
    "    print(\"Error al convertir la salida en objetos ComparacionDescripcion: \", e)\n",
    "    print(\"Respuesta del modelo:\\n\", salida)\n"
   ],
   "id": "6dde8c2d07737e83",
   "outputs": [
    {
     "name": "stdout",
     "output_type": "stream",
     "text": [
      "Error al convertir la salida en objetos ComparacionDescripcion:  Expecting value: line 1 column 1 (char 0)\n",
      "Respuesta del modelo:\n",
      " ```json\n",
      "[\n",
      "  {\n",
      "    \"palabras_similares\": [\"servicios profesionales\", \"equipo básico en salud\"],\n",
      "    \"porcentaje_similitud\": 75.0\n",
      "  },\n",
      "  {\n",
      "    \"palabras_similares\": [\"enfermería\", \"atención en salud\"],\n",
      "    \"porcentaje_similitud\": 25.0\n",
      "  }\n",
      "]\n",
      "```\n"
     ]
    }
   ],
   "execution_count": 5
  },
  {
   "metadata": {},
   "cell_type": "code",
   "outputs": [],
   "execution_count": null,
   "source": "",
   "id": "657a5c55b980415e"
  }
 ],
 "metadata": {
  "kernelspec": {
   "display_name": "Python 3",
   "language": "python",
   "name": "python3"
  },
  "language_info": {
   "codemirror_mode": {
    "name": "ipython",
    "version": 2
   },
   "file_extension": ".py",
   "mimetype": "text/x-python",
   "name": "python",
   "nbconvert_exporter": "python",
   "pygments_lexer": "ipython2",
   "version": "2.7.6"
  }
 },
 "nbformat": 4,
 "nbformat_minor": 5
}
